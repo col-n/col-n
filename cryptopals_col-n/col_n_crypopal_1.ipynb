{
 "cells": [
  {
   "cell_type": "code",
   "execution_count": 3,
   "metadata": {
    "collapsed": true
   },
   "outputs": [],
   "source": [
    "#http://cryptopals.com/sets/1/challenges/1/\n",
    "#challenge 1: convert hex (aka base16) to base64, using the base64 module\n",
    "import base64, codecs\n",
    "\n",
    "#this is the hex string to be converted\n",
    "test = '49276d206b696c6c696e6720796f757220627261696e206c696b65206120706f69736f6e6f7573206d757368726f6f6d'\n",
    "\n",
    "#they give a hint - convert it into raw bytes first ... \n",
    "#in fact, only operate on raw bytes, so we will have to keep this in mind as we progress\n",
    "#over the wires it is all bytes"
   ]
  },
  {
   "cell_type": "code",
   "execution_count": 1,
   "metadata": {
    "collapsed": false
   },
   "outputs": [],
   "source": [
    "def hexto64(s):\n",
    "    import base64, codecs\n",
    "    return base64.b64encode(codecs.decode(s,\"hex\"))"
   ]
  },
  {
   "cell_type": "code",
   "execution_count": 4,
   "metadata": {
    "collapsed": false
   },
   "outputs": [],
   "source": [
    "expected =b'SSdtIGtpbGxpbmcgeW91ciBicmFpbiBsaWtlIGEgcG9pc29ub3VzIG11c2hyb29t'\n",
    "\n",
    "assert hexto64(test)== expected"
   ]
  },
  {
   "cell_type": "code",
   "execution_count": null,
   "metadata": {
    "collapsed": true
   },
   "outputs": [],
   "source": []
  }
 ],
 "metadata": {
  "kernelspec": {
   "display_name": "Python 3",
   "language": "python",
   "name": "python3"
  },
  "language_info": {
   "codemirror_mode": {
    "name": "ipython",
    "version": 3
   },
   "file_extension": ".py",
   "mimetype": "text/x-python",
   "name": "python",
   "nbconvert_exporter": "python",
   "pygments_lexer": "ipython3",
   "version": "3.4.4"
  }
 },
 "nbformat": 4,
 "nbformat_minor": 0
}
