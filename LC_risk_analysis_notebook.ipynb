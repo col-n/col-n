{
 "cells": [
  {
   "cell_type": "code",
   "execution_count": 2,
   "metadata": {
    "collapsed": false
   },
   "outputs": [],
   "source": [
    "#A simple analysis of Lending Club Loan Data to identify some of the factors leading to different interest rates.\n",
    "#For portions of this (as noted) I worked with John Alvino\n",
    "\n",
    "import pandas as pd\n",
    "import pandas.io.data as iod\n",
    "import numpy as np\n",
    "import matplotlib.pyplot as plt\n",
    "import matplotlib as mp\n",
    "import datetime as dt\n",
    "%matplotlib inline"
   ]
  },
  {
   "cell_type": "code",
   "execution_count": 5,
   "metadata": {
    "collapsed": false
   },
   "outputs": [
    {
     "data": {
      "text/html": [
       "<div>\n",
       "<table border=\"1\" class=\"dataframe\">\n",
       "  <thead>\n",
       "    <tr style=\"text-align: right;\">\n",
       "      <th></th>\n",
       "      <th>id</th>\n",
       "      <th>int_rate</th>\n",
       "      <th>loan_status</th>\n",
       "      <th>dti</th>\n",
       "      <th>delinq_2yrs</th>\n",
       "      <th>earliest_cr_line</th>\n",
       "      <th>pub_rec</th>\n",
       "      <th>out_prncp</th>\n",
       "    </tr>\n",
       "  </thead>\n",
       "  <tbody>\n",
       "    <tr>\n",
       "      <th>0</th>\n",
       "      <td>36805548</td>\n",
       "      <td>6.99</td>\n",
       "      <td>Current</td>\n",
       "      <td>14.92</td>\n",
       "      <td>0</td>\n",
       "      <td>Sep-89</td>\n",
       "      <td>0</td>\n",
       "      <td>9877.48</td>\n",
       "    </tr>\n",
       "    <tr>\n",
       "      <th>1</th>\n",
       "      <td>38098114</td>\n",
       "      <td>12.39</td>\n",
       "      <td>Current</td>\n",
       "      <td>12.03</td>\n",
       "      <td>0</td>\n",
       "      <td>Aug-94</td>\n",
       "      <td>0</td>\n",
       "      <td>14634.59</td>\n",
       "    </tr>\n",
       "    <tr>\n",
       "      <th>2</th>\n",
       "      <td>37822187</td>\n",
       "      <td>13.66</td>\n",
       "      <td>Current</td>\n",
       "      <td>25.81</td>\n",
       "      <td>0</td>\n",
       "      <td>Nov-92</td>\n",
       "      <td>0</td>\n",
       "      <td>9163.03</td>\n",
       "    </tr>\n",
       "    <tr>\n",
       "      <th>3</th>\n",
       "      <td>37662224</td>\n",
       "      <td>13.66</td>\n",
       "      <td>Current</td>\n",
       "      <td>34.81</td>\n",
       "      <td>0</td>\n",
       "      <td>2-Aug</td>\n",
       "      <td>0</td>\n",
       "      <td>7301.79</td>\n",
       "    </tr>\n",
       "    <tr>\n",
       "      <th>4</th>\n",
       "      <td>37612354</td>\n",
       "      <td>17.14</td>\n",
       "      <td>Current</td>\n",
       "      <td>8.31</td>\n",
       "      <td>1</td>\n",
       "      <td>Oct-00</td>\n",
       "      <td>0</td>\n",
       "      <td>12525.55</td>\n",
       "    </tr>\n",
       "  </tbody>\n",
       "</table>\n",
       "</div>"
      ],
      "text/plain": [
       "         id int_rate loan_status    dti delinq_2yrs earliest_cr_line pub_rec  \\\n",
       "0  36805548     6.99     Current  14.92           0           Sep-89       0   \n",
       "1  38098114    12.39     Current  12.03           0           Aug-94       0   \n",
       "2  37822187    13.66     Current  25.81           0           Nov-92       0   \n",
       "3  37662224    13.66     Current  34.81           0            2-Aug       0   \n",
       "4  37612354    17.14     Current   8.31           1           Oct-00       0   \n",
       "\n",
       "  out_prncp  \n",
       "0   9877.48  \n",
       "1  14634.59  \n",
       "2   9163.03  \n",
       "3   7301.79  \n",
       "4  12525.55  "
      ]
     },
     "execution_count": 5,
     "metadata": {},
     "output_type": "execute_result"
    }
   ],
   "source": [
    "#The data can be pulled from Lending Club as a CSV\n",
    "#When I completed this analysis it was published every couple of weeks\n",
    "data_frame = pd.read_csv('treefo.csv', dtype=object)\n",
    "data_frame.head()"
   ]
  },
  {
   "cell_type": "code",
   "execution_count": 7,
   "metadata": {
    "collapsed": false
   },
   "outputs": [],
   "source": [
    "#hat tip to John for this part\n",
    "loan_data = list()\n",
    "weights_dictionary={}\n",
    "\n",
    "for loan_id in data_frame.iloc[0:235628]['id']:\n",
    "    sub_df = data_frame.ix[data_frame.id== loan_id] \n",
    "    series_data = sub_df.iloc()[0]\n",
    "    int_rate = series_data['int_rate']\n",
    "    loan_status = series_data['loan_status']\n",
    "    dti = series_data['dti']\n",
    "    delinq = series_data['delinq_2yrs']\n",
    "    earliest = series_data['earliest_cr_line']\n",
    "    pub_records = series_data['pub_rec']\n",
    "    try:\n",
    "        earliest_v1= 2000 + int(earliest[0])\n",
    "        try:\n",
    "            int(earliest[1])\n",
    "            earliest_v1= 2000+int(earliest[0:2])\n",
    "        except:\n",
    "            pass\n",
    "    except:\n",
    "        earliest_v1 = 1900 + int(earliest[4:6])\n",
    "    if earliest_v1 == 1900:\n",
    "        earliest_v1 = 2000\n",
    "    #print(earliest_v1)\n",
    "\n",
    "    earliest_v2=2015-earliest_v1\n",
    "    \n",
    "    loan_info = loan_id,int_rate,loan_status,dti,delinq,pub_records,earliest_v2\n",
    "    loan_data.append(loan_info)\n",
    "\n",
    "#print(loan_data)\n",
    "\n",
    "    loan_list = list()\n",
    "    if dti <  10:\n",
    "        dti_value=1\n",
    "    elif 10 < dti <  20:\n",
    "        dti_value=2\n",
    "    elif dti > 20:\n",
    "        dti_value=3\n",
    "    loan_list.append(dti_value)\n",
    "    if delinq ==0:\n",
    "        delinq_value=1\n",
    "    elif delinq ==1:\n",
    "        delinq_value=2\n",
    "    elif delinq>1:\n",
    "        delinq_value=3\n",
    "    loan_list.append(delinq_value)\n",
    "    if pub_records ==0:\n",
    "        pub_records_value=1\n",
    "    elif pub_records ==1:\n",
    "        pub_records_value=2\n",
    "    elif pub_records>1:\n",
    "        pub_records_value=3\n",
    "    loan_list.append(pub_records_value)\n",
    "    if earliest_v2 >20:\n",
    "        earliest_value=1\n",
    "    elif 8 < earliest_v2 < 21:\n",
    "        earliest_value=2\n",
    "    elif earliest_v2 <9:\n",
    "        earliest_value=3\n",
    "    loan_list.append(earliest_value)\n",
    "    weight_sum= (sum(loan_list))\n",
    "    #print(loan_list)\n",
    "    #print(weight_sum)\n",
    "    weights_dictionary[loan_id]= weight_sum\n",
    "\n",
    "#print(weights_dictionary)\n",
    "\n",
    "low_risk_list=list()\n",
    "med_low_risk_list=list()\n",
    "med_risk_list=list()\n",
    "med_hi_risk_list=list()\n",
    "hi_risk_list=list()\n",
    "\n",
    "for loan_id in weights_dictionary.keys():\n",
    "    if weights_dictionary[loan_id] < 6:\n",
    "        low_risk_list.append(loan_id)\n",
    "    elif 5 < weights_dictionary[loan_id] < 7:\n",
    "        med_low_risk_list.append(loan_id)\n",
    "    elif 6 < weights_dictionary[loan_id] < 9:\n",
    "        med_risk_list.append(loan_id)\n",
    "    elif 8 < weights_dictionary[loan_id] < 11:\n",
    "        med_hi_risk_list.append(loan_id)\n",
    "    elif weights_dictionary[loan_id] > 10:\n",
    "        hi_risk_list.append(loan_id)"
   ]
  },
  {
   "cell_type": "code",
   "execution_count": 118,
   "metadata": {
    "collapsed": false
   },
   "outputs": [],
   "source": [
    "low_frame = data_frame.ix[data_frame['id'].isin(low_risk_list)]\n",
    "low_frame = low_frame[low_frame.out_prncp != 0] #make sure it has a positive balance to invest\n",
    "low_frame.to_csv('low_frame.csv')"
   ]
  },
  {
   "cell_type": "code",
   "execution_count": 117,
   "metadata": {
    "collapsed": true
   },
   "outputs": [],
   "source": [
    "med_low_frame = data_frame.ix[data_frame['id'].isin(med_low_risk_list)]\n",
    "med_low_frame = med_low_frame[med_low_frame.out_prncp != 0]\n",
    "med_low_frame.to_csv('med_low_frame.csv')"
   ]
  },
  {
   "cell_type": "code",
   "execution_count": 119,
   "metadata": {
    "collapsed": true
   },
   "outputs": [],
   "source": [
    "med_risk_frame = data_frame.ix[data_frame['id'].isin(med_risk_list)]\n",
    "med_risk_frame = med_risk_frame[med_risk_frame.out_prncp != 0]\n",
    "med_risk_frame.to_csv('med_frame.csv')"
   ]
  },
  {
   "cell_type": "code",
   "execution_count": 120,
   "metadata": {
    "collapsed": true
   },
   "outputs": [],
   "source": [
    "med_hi_risk_frame = data_frame.ix[data_frame['id'].isin(med_hi_risk_list)]\n",
    "med_hi_risk_frame = med_hi_risk_frame[med_hi_risk_frame.out_prncp != 0]\n",
    "med_hi_risk_frame.to_csv('med_hi_frame.csv')"
   ]
  },
  {
   "cell_type": "code",
   "execution_count": 121,
   "metadata": {
    "collapsed": true
   },
   "outputs": [],
   "source": [
    "hi_risk_frame = data_frame.ix[data_frame['id'].isin(hi_risk_list)]\n",
    "hi_risk_frame = hi_risk_frame[hi_risk_frame.out_prncp != 0]\n",
    "hi_risk_frame.to_csv('hi_frame.csv')"
   ]
  },
  {
   "cell_type": "code",
   "execution_count": 122,
   "metadata": {
    "collapsed": false
   },
   "outputs": [
    {
     "data": {
      "text/plain": [
       "<matplotlib.legend.Legend at 0x114a0a860>"
      ]
     },
     "execution_count": 122,
     "metadata": {},
     "output_type": "execute_result"
    },
    {
     "data": {
      "image/png": "[encoded data removed]",
      "text/plain": [
       "<matplotlib.figure.Figure at 0x10bc0c278>"
      ]
     },
     "metadata": {},
     "output_type": "display_data"
    }
   ],
   "source": [
    "#Get the 5 year rate from yahoo and compare it to the average of Lending Club's Portfolio\n",
    "\n",
    "int_mean = np.mean(data_frame['int_rate'])\n",
    "int_mean\n",
    "five_year_rate = iod.get_data_yahoo('^FVX', start=dt.datetime(2015,4,29), end=dt.date.today())\n",
    "latest_day = len(five_year_rate) - 1\n",
    "latest_day\n",
    "five_year_plot=five_year_rate.iloc[latest_day]['Close']\n",
    "five_year_plot\n",
    "\n",
    "N = 1\n",
    "plots=[five_year_plot,int_mean]\n",
    "ind = np.arange(N)\n",
    "width = 1\n",
    "fig, ax = plt.subplots()\n",
    "rects1 = ax.bar(ind, five_year_plot, width, color='r')\n",
    "rects2 = ax.bar(ind+width, int_mean, width, color='y')\n",
    "ax.set_ylabel('Interest Rate')\n",
    "ax.set_xlabel('Which one do you like?')\n",
    "ax.set_title('Avg Lending Tree vs 5 year US Bond')\n",
    "ax.set_xticks(ind+width)\n",
    "ax.legend( (rects1[0], rects2[0]), ('5 Year Bond', 'Lending Club'))\n"
   ]
  },
  {
   "cell_type": "code",
   "execution_count": 7,
   "metadata": {
    "collapsed": false
   },
   "outputs": [],
   "source": [
    "low_int_std = np.std(low_frame['int_rate'])\n",
    "low_int_mean = np.mean(low_frame['int_rate'])\n",
    "low_prin_mean = np.mean(low_frame['out_prncp'])\n",
    "low_prin_sum = np.sum(low_frame['out_prncp'])"
   ]
  },
  {
   "cell_type": "code",
   "execution_count": 8,
   "metadata": {
    "collapsed": false
   },
   "outputs": [],
   "source": [
    "med_low_int_std = np.std(med_low_frame['int_rate'])\n",
    "med_low_int_mean = np.mean(med_low_frame['int_rate'])\n",
    "med_low_prin_mean = np.mean(med_low_frame['out_prncp'])\n",
    "med_low_prin_sum = np.sum(med_low_frame['out_prncp'])"
   ]
  },
  {
   "cell_type": "code",
   "execution_count": 11,
   "metadata": {
    "collapsed": false
   },
   "outputs": [],
   "source": [
    "med_risk_int_std = np.std(med_risk_frame['int_rate'])\n",
    "med_risk_int_mean = np.mean(med_risk_frame['int_rate'])\n",
    "med_risk_prin_mean = np.mean(med_risk_frame['out_prncp'])\n",
    "med_risk_prin_sum = np.sum(med_risk_frame['out_prncp'])"
   ]
  },
  {
   "cell_type": "code",
   "execution_count": 14,
   "metadata": {
    "collapsed": false
   },
   "outputs": [],
   "source": [
    "med_hi_int_std = np.std(med_hi_risk_frame['int_rate'])\n",
    "med_hi_int_mean = np.mean(med_hi_risk_frame['int_rate'])\n",
    "med_hi_prin_mean = np.mean(med_hi_risk_frame['out_prncp'])\n",
    "med_hi_prin_sum = np.sum(med_hi_risk_frame['out_prncp'])"
   ]
  },
  {
   "cell_type": "code",
   "execution_count": 15,
   "metadata": {
    "collapsed": false
   },
   "outputs": [],
   "source": [
    "hi_int_std = np.std(hi_risk_frame['int_rate'])\n",
    "hi_int_mean = np.mean(hi_risk_frame['int_rate'])\n",
    "hi_prin_mean = np.mean(hi_risk_frame['out_prncp'])\n",
    "hi_prin_sum = np.sum(hi_risk_frame['out_prncp'])"
   ]
  },
  {
   "cell_type": "code",
   "execution_count": 128,
   "metadata": {
    "collapsed": false
   },
   "outputs": [
    {
     "data": {
      "image/png": "[encoded data removed]",
      "text/plain": [
       "<matplotlib.figure.Figure at 0x11759a9b0>"
      ]
     },
     "metadata": {},
     "output_type": "display_data"
    }
   ],
   "source": [
    "#Check to see if we are in the right ballpark with our analysis ...\n",
    "N = 5\n",
    "intmeans = (low_prin_mean,med_low_prin_mean,med_risk_prin_mean,med_hi_prin_mean,hi_prin_mean)\n",
    "\n",
    "ind = np.arange(N)  \n",
    "width = 0.35       \n",
    "\n",
    "fig, ax = plt.subplots()\n",
    "rects1 = ax.bar(ind, intmeans, width)\n",
    "rects1[0].set_color('green')\n",
    "rects1[1].set_color('blue')\n",
    "rects1[2].set_color('yellow')\n",
    "rects1[3].set_color('orange')\n",
    "rects1[4].set_color('red')\n",
    "\n",
    "ax.set_ylabel('Average Loan Size, in $')\n",
    "ax.set_title('Average Loan Size by risk level')\n",
    "ax.set_xticks(ind+width)\n",
    "ax.set_xticklabels( ('low','med-low','med','med-hi','hi') )\n",
    "\n",
    "plt.show()"
   ]
  },
  {
   "cell_type": "code",
   "execution_count": 129,
   "metadata": {
    "collapsed": false
   },
   "outputs": [
    {
     "data": {
      "image/png": "[encoded data removed]",
      "text/plain": [
       "<matplotlib.figure.Figure at 0x1069b5198>"
      ]
     },
     "metadata": {},
     "output_type": "display_data"
    }
   ],
   "source": [
    "#Mean and Standard Deviation ...\n",
    "N = 5\n",
    "intmeans = (low_int_mean,med_low_int_mean,med_risk_int_mean,med_hi_int_mean,hi_int_mean)\n",
    "intstds =   (low_int_std,med_low_int_std,med_risk_int_std,med_hi_int_std,hi_int_std)\n",
    "\n",
    "ind = np.arange(N)  \n",
    "width = 0.35       \n",
    "\n",
    "fig, ax = plt.subplots()\n",
    "rects1 = ax.bar(ind, intmeans, width, color='r', yerr=intstds)\n",
    "rects1[0].set_color('green')\n",
    "rects1[1].set_color('blue')\n",
    "rects1[2].set_color('yellow')\n",
    "rects1[3].set_color('orange')\n",
    "rects1[4].set_color('red')\n",
    "\n",
    "ax.set_ylabel('Interest Rate')\n",
    "ax.set_title('Mean and stan dev of interest rate by risk level')\n",
    "ax.set_xticks(ind+width)\n",
    "ax.set_xticklabels( ('low','med-low','med','med-hi','hi') )\n",
    "\n",
    "plt.show()"
   ]
  },
  {
   "cell_type": "code",
   "execution_count": 139,
   "metadata": {
    "collapsed": false
   },
   "outputs": [],
   "source": [
    "top_5_low = low_frame.sort(['int_rate'], ascending=False)\n",
    "top_5_low = top_5_low[0:5]\n",
    "top_5_low.to_csv('top_5_low_frame.csv')\n",
    "\n",
    "top_5_med_low = med_low_frame.sort(['int_rate'], ascending=False)\n",
    "top_5_med_low = top_5_med_low[0:5]\n",
    "top_5_med_low.to_csv('top_5_med_low.csv')\n",
    "\n",
    "top_5_med = med_risk_frame.sort(['int_rate'], ascending=False)\n",
    "top_5_med = top_5_med[0:5]\n",
    "top_5_med.to_csv('top_5_med.csv')\n",
    "\n",
    "top_5_med_hi = med_hi_risk_frame.sort(['int_rate'], ascending=False)\n",
    "top_5_med_hi = top_5_med_hi[0:5]\n",
    "top_5_med_hi.to_csv('top_5_med_hi.csv')\n",
    "\n",
    "top_5_hi = hi_risk_frame.sort(['int_rate'], ascending=False)\n",
    "top_5_hi = top_5_hi[0:5]\n",
    "top_5_hi.to_csv('top_5_hi.csv')"
   ]
  },
  {
   "cell_type": "code",
   "execution_count": 13,
   "metadata": {
    "collapsed": false
   },
   "outputs": [],
   "source": [
    "low_frame = pd.read_csv('low_frame.csv')\n",
    "med_low_frame = pd.read_csv('med_low_frame.csv')\n",
    "med_risk_frame = pd.read_csv('med_frame.csv')\n",
    "med_hi_risk_frame = pd.read_csv('med_hi_frame.csv')\n",
    "hi_risk_frame = pd.read_csv('med_hi_frame.csv')"
   ]
  },
  {
   "cell_type": "code",
   "execution_count": 16,
   "metadata": {
    "collapsed": false
   },
   "outputs": [
    {
     "data": {
      "image/png": "[encoded data removed]",
      "text/plain": [
       "<matplotlib.figure.Figure at 0x108148320>"
      ]
     },
     "metadata": {},
     "output_type": "display_data"
    }
   ],
   "source": [
    "#Checking the size of the loan and graphing it.\n",
    "N = 5\n",
    "amtsums = (low_prin_sum,med_low_prin_sum,med_risk_prin_sum,med_hi_prin_sum,hi_prin_sum)\n",
    "\n",
    "ind = np.arange(N)  \n",
    "width = 0.35       \n",
    "\n",
    "fig, ax = plt.subplots()\n",
    "rects1 = ax.bar(ind, amtsums, width)\n",
    "rects1[0].set_color('green')\n",
    "rects1[1].set_color('blue')\n",
    "rects1[2].set_color('yellow')\n",
    "rects1[3].set_color('orange')\n",
    "rects1[4].set_color('red')\n",
    "\n",
    "ax.set_ylabel('Total Loan Size, in $')\n",
    "ax.set_title('Total Loan Size by risk level')\n",
    "ax.set_xticks(ind+width)\n",
    "ax.set_xticklabels( ('low','med-low','med','med-hi','hi') )\n",
    "\n",
    "plt.show()"
   ]
  },
  {
   "cell_type": "code",
   "execution_count": 115,
   "metadata": {
    "collapsed": true
   },
   "outputs": [],
   "source": [
    "#get the top loans from any risk category (low the example below)\n",
    "top_5_low = low_frame.sort(['int_rate'], ascending=False)"
   ]
  }
 ],
 "metadata": {
  "kernelspec": {
   "display_name": "Python 3",
   "language": "python",
   "name": "python3"
  },
  "language_info": {
   "codemirror_mode": {
    "name": "ipython",
    "version": 3
   },
   "file_extension": ".py",
   "mimetype": "text/x-python",
   "name": "python",
   "nbconvert_exporter": "python",
   "pygments_lexer": "ipython3",
   "version": "3.4.3"
  }
 },
 "nbformat": 4,
 "nbformat_minor": 0
}
